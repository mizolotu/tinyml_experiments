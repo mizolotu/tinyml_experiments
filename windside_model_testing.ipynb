{
 "cells": [
  {
   "cell_type": "code",
   "execution_count": 1,
   "metadata": {},
   "outputs": [
    {
     "name": "stderr",
     "output_type": "stream",
     "text": [
      "/home/mizolotu/anaconda3/lib/python3.8/site-packages/dask/dataframe/utils.py:367: FutureWarning: pandas.Int64Index is deprecated and will be removed from pandas in a future version. Use pandas.Index with the appropriate dtype instead.\n",
      "  _numeric_index_types = (pd.Int64Index, pd.Float64Index, pd.UInt64Index)\n",
      "/home/mizolotu/anaconda3/lib/python3.8/site-packages/dask/dataframe/utils.py:367: FutureWarning: pandas.Float64Index is deprecated and will be removed from pandas in a future version. Use pandas.Index with the appropriate dtype instead.\n",
      "  _numeric_index_types = (pd.Int64Index, pd.Float64Index, pd.UInt64Index)\n",
      "/home/mizolotu/anaconda3/lib/python3.8/site-packages/dask/dataframe/utils.py:367: FutureWarning: pandas.UInt64Index is deprecated and will be removed from pandas in a future version. Use pandas.Index with the appropriate dtype instead.\n",
      "  _numeric_index_types = (pd.Int64Index, pd.Float64Index, pd.UInt64Index)\n"
     ]
    }
   ],
   "source": [
    "import json, os, uuid, joblib, multiprocessing, sys\n",
    "import numpy as np\n",
    "import pandas as pd\n",
    "import argparse as arp\n",
    "import tensorflow as tf\n",
    "\n",
    "from time import time\n",
    "from config import *\n",
    "from windside_extract_data import create_dataset, split_dataset\n",
    "\n",
    "from sklearn.preprocessing import MinMaxScaler, StandardScaler\n",
    "\n",
    "from sklearn.linear_model import LinearRegression as LR\n",
    "from sklearn.linear_model import ElasticNet as ENR\n",
    "from sklearn.linear_model import SGDRegressor as SGDR\n",
    "from sklearn.linear_model import BayesianRidge as BRR\n",
    "from sklearn.svm import SVR\n",
    "from lightning.regression import LinearSVR as LSVR\n",
    "from sklearn.tree import DecisionTreeRegressor as DTR\n",
    "from sklearn.ensemble import RandomForestRegressor as RFR\n",
    "from xgboost.sklearn import XGBRFRegressor as XGBRFR\n",
    "from sklearn.ensemble import GradientBoostingRegressor as GBR\n",
    "from xgboost.sklearn import XGBRegressor as XGBR\n",
    "from lightgbm.sklearn import LGBMRegressor as LGBMR\n",
    "\n",
    "from windside_manual_keras import parse_layers"
   ]
  },
  {
   "cell_type": "markdown",
   "metadata": {},
   "source": [
    "<h3>Data preprocessing</h3>"
   ]
  },
  {
   "cell_type": "code",
   "execution_count": 32,
   "metadata": {},
   "outputs": [],
   "source": [
    "seed = 42\n",
    "chunk_size = None\n",
    "\n",
    "series_step = 1\n",
    "window_size = 60\n",
    "feature_cols = ['Current']\n",
    "\n",
    "weights = 'discrete'\n",
    "#weights = 'continuous'"
   ]
  },
  {
   "cell_type": "code",
   "execution_count": 33,
   "metadata": {},
   "outputs": [
    {
     "name": "stdout",
     "output_type": "stream",
     "text": [
      "Dataset exists: True\n"
     ]
    }
   ],
   "source": [
    "data_fpath = osp.join(DATA_DIR, 'windside', 'features.csv')\n",
    "dataset_fpath_pattern = osp.join(DATA_DIR, 'windside', '{0}.{1}')\n",
    "\n",
    "X, T, Y, D, W, y0_mean, y0_error = create_dataset(\n",
    "    data_fpath,\n",
    "    output_fpath_pattern=dataset_fpath_pattern,\n",
    "    feature_cols=feature_cols,\n",
    "    series_step=series_step,\n",
    "    window_size=window_size,\n",
    "    window_step=1,\n",
    "    chunk_size=chunk_size,\n",
    "    weights=weights\n",
    ")"
   ]
  },
  {
   "cell_type": "code",
   "execution_count": 34,
   "metadata": {},
   "outputs": [],
   "source": [
    "#order = 'date'\n",
    "order = 'windspeed'\n",
    "\n",
    "val_split = 0.2\n",
    "inf_split = 0.1\n",
    "\n",
    "shuffle_train = False"
   ]
  },
  {
   "cell_type": "code",
   "execution_count": 35,
   "metadata": {},
   "outputs": [],
   "source": [
    "X_tr, T_tr, Y_tr, D_tr, W_tr, X_val, T_val, Y_val, D_val, W_val, X_inf, T_inf, Y_inf, D_inf, W_inf = split_dataset(\n",
    "    (X, T, Y, D, W),\n",
    "    val_split=val_split,\n",
    "    inf_split=inf_split,\n",
    "    order=order,\n",
    "    shuffle_train=shuffle_train\n",
    ")\n",
    "\n",
    "X_tr = np.squeeze(X_tr)\n",
    "X_val = np.squeeze(X_val)\n",
    "X_inf = np.squeeze(X_inf)"
   ]
  },
  {
   "cell_type": "code",
   "execution_count": 36,
   "metadata": {},
   "outputs": [
    {
     "name": "stdout",
     "output_type": "stream",
     "text": [
      "The training set dates: 21/11/2022 10:59:21 04/03/2023 13:32:37\n",
      "The validation set dates: 23/11/2022 14:07:15 11/05/2023 12:23:46\n",
      "The inference set dates: 19/06/2022 16:20:42 06/08/2022 23:04:01\n",
      "The training set wind speeds: 0.11619233 2.165924\n",
      "The validation set wind speeds: 2.165924 2.725383\n",
      "The inference set wind speeds: 2.725383 6.627586\n",
      "Number of positive current samples in the inference subset = 1701119\n"
     ]
    }
   ],
   "source": [
    "x_mean = np.mean(X_tr)\n",
    "x_std = np.std(X_tr)\n",
    "y_min = np.min(Y_tr)\n",
    "y_max = np.max(Y_tr)\n",
    "\n",
    "# scaler = MinMaxScaler()\n",
    "scaler = StandardScaler()\n",
    "\n",
    "X_tr_std = scaler.fit_transform(X_tr)\n",
    "X_val_std = scaler.transform(X_val)\n",
    "X_inf_std = scaler.transform(X_inf)\n",
    "\n",
    "print('The training set dates:', D_tr[0], D_tr[-1])\n",
    "print('The validation set dates:', D_val[0], D_val[-1])\n",
    "if len(D_inf) > 0:\n",
    "    print('The inference set dates:', D_inf[0], D_inf[-1])\n",
    "    \n",
    "print('The training set wind speeds:', Y_tr[0], Y_tr[-1])\n",
    "print('The validation set wind speeds:', Y_val[0], Y_val[-1])\n",
    "if len(Y_inf) > 0:\n",
    "    print('The inference set wind speeds:', Y_inf[0], Y_inf[-1])\n",
    "    \n",
    "X_inf_sum = np.sum(X_inf, 1)\n",
    "idx_inf_1 = np.where(X_inf_sum > 0)[0]\n",
    "print('Number of positive current samples in the inference subset =', len(idx_inf_1))"
   ]
  },
  {
   "cell_type": "markdown",
   "metadata": {},
   "source": [
    "<h3>Utils</h3>"
   ]
  },
  {
   "cell_type": "code",
   "execution_count": 37,
   "metadata": {},
   "outputs": [],
   "source": [
    "def train_sk(alg_name, kwargs, order, X_tr_std, Y_tr):\n",
    "    \n",
    "    model = globals()[alg_name](**kwargs)\n",
    "\n",
    "    model.fit(\n",
    "        X_tr_std,\n",
    "        Y_tr\n",
    "    )\n",
    "    \n",
    "    model_fname = f'{alg_name.lower()}_{uuid.uuid3(uuid.NAMESPACE_DNS, json.dumps(kwargs))}_{order}'\n",
    "    model_fpath = osp.join(WINDSIDE_MODEL_DIR, model_fname)\n",
    "    print('Model fpath:', model_fpath)\n",
    "        \n",
    "    if not osp.isdir(model_fpath):\n",
    "        os.mkdir(model_fpath)       \n",
    "    \n",
    "    joblib.dump(model, osp.join(model_fpath, 'model.jblb'))"
   ]
  },
  {
   "cell_type": "code",
   "execution_count": 38,
   "metadata": {},
   "outputs": [],
   "source": [
    "def train_nn(alg_name, layers, order, X_tr_std, Y_tr, W_tr, output_dim, loss, lr, val_split, epochs, batch_size, patience):\n",
    "    \n",
    "    np.random.seed(seed)\n",
    "    tf.random.set_seed(seed)\n",
    "    tf.keras.utils.set_random_seed(seed)\n",
    "    \n",
    "    inputs = tf.keras.layers.Input(shape=X_tr_std.shape[1:])\n",
    "\n",
    "    hidden = parse_layers(inputs, layers)\n",
    "    \n",
    "    if len(hidden.shape) > 2:\n",
    "        hidden = tf.keras.layers.Flatten()(hidden)\n",
    "    \n",
    "    #outputs = tf.keras.layers.Dense(units=output_dim, activation='sigmoid')(hidden)\n",
    "    outputs = tf.keras.layers.Dense(units=output_dim, activation='linear')(hidden)\n",
    "    \n",
    "    y_min = np.min(Y_tr)\n",
    "    y_max = np.max(Y_tr)\n",
    "    #outputs = outputs * (y_max - y_min) + y_min\n",
    "    \n",
    "    model = tf.keras.models.Model(inputs=inputs, outputs=outputs)\n",
    "\n",
    "    metrics = [tf.keras.metrics.MeanSquaredError(), tf.keras.metrics.MeanAbsoluteError()]\n",
    "    model.compile(loss=loss, optimizer=tf.keras.optimizers.Adam(learning_rate=lr), weighted_metrics=metrics)\n",
    "    \n",
    "    model_summary = []\n",
    "    model.summary(print_fn=lambda x: model_summary.append(x))\n",
    "    summary = \"\\n\".join(model_summary)\n",
    "\n",
    "    print(summary)\n",
    "    \n",
    "    model.fit(\n",
    "        X_tr_std, Y_tr,\n",
    "        sample_weight=pd.Series(W_tr).to_frame(),\n",
    "        validation_split=val_split,\n",
    "        epochs=epochs,\n",
    "        batch_size=batch_size,\n",
    "        shuffle=True,\n",
    "        callbacks=[\n",
    "            tf.keras.callbacks.EarlyStopping(monitor='val_loss', patience=patience, mode='min', restore_best_weights=True)\n",
    "        ],\n",
    "        verbose=True\n",
    "    )\n",
    "    \n",
    "    model_fname = f'{alg_name.lower()}_{uuid.uuid3(uuid.NAMESPACE_DNS, json.dumps(layers))}_{order}'\n",
    "    model_fpath = osp.join(WINDSIDE_MODEL_DIR, model_fname)\n",
    "    print('Model fpath:', model_fpath)\n",
    "    \n",
    "    model.save(model_fpath)"
   ]
  },
  {
   "cell_type": "code",
   "execution_count": 39,
   "metadata": {},
   "outputs": [],
   "source": [
    "def eval_alg(alg_name, kwargs, order, Y_inf, X_inf_std, idx_inf_1, batch_size=None):\n",
    "    \n",
    "    model_fname = f'{alg_name.lower()}_{uuid.uuid3(uuid.NAMESPACE_DNS, json.dumps(kwargs))}_{order}'\n",
    "    model_fpath = osp.join(WINDSIDE_MODEL_DIR, model_fname)\n",
    "    print('Model fpath:', model_fpath)\n",
    "    \n",
    "    try:\n",
    "        model = tf.keras.models.load_model(model_fpath)\n",
    "        predict_kwargs = {'batch_size': batch_size}\n",
    "    except:\n",
    "        model = joblib.load(osp.join(model_fpath, 'model.jblb'))\n",
    "        predict_kwargs = {}\n",
    "            \n",
    "    Y1 = Y_inf[idx_inf_1]\n",
    "    \n",
    "    P1 = np.array(model.predict(X_inf_std[idx_inf_1, :], **predict_kwargs)).flatten()\n",
    "    \n",
    "    error1 = np.mean(np.abs(Y1 - P1))\n",
    "    print(f'\\nError 0: {y0_error}, error 1: {error1}')\n",
    "    \n",
    "    if not osp.isdir(model_fpath):\n",
    "        os.mkdir(model_fpath)\n",
    "\n",
    "    with open(osp.join(model_fpath, 'eval_stats.json'), 'w') as f:\n",
    "        json.dump({\n",
    "            'error0': float(y0_error),\n",
    "            'error1': float(error1),\n",
    "            'algorithm': alg_name,\n",
    "            'kwargs': kwargs\n",
    "        }, f)"
   ]
  },
  {
   "cell_type": "code",
   "execution_count": 40,
   "metadata": {},
   "outputs": [],
   "source": [
    "def save_data_info(alg_name, kwargs, order):\n",
    "    \n",
    "    model_fname = f'{alg_name.lower()}_{uuid.uuid3(uuid.NAMESPACE_DNS, json.dumps(kwargs))}_{order}'\n",
    "    model_fpath = osp.join(WINDSIDE_MODEL_DIR, model_fname)\n",
    "    print('Model fpath:', model_fpath)\n",
    "    \n",
    "    if not osp.isdir(model_fpath):\n",
    "        os.mkdir(model_fpath)    \n",
    "    \n",
    "    with open(osp.join(model_fpath, 'data_info.json'), 'w') as f:\n",
    "        json.dump({\n",
    "            'input_shape': X_tr.shape,\n",
    "            'output_shape': Y_tr.shape if len(Y_tr.shape) > 1 else (Y_tr.shape[0], 1),\n",
    "            'x_mean': float(x_mean),\n",
    "            'x_std': float(x_std),\n",
    "            'y_min': float(y_min),\n",
    "            'y_max': float(y_max),\n",
    "            'y0_mean': float(y0_mean),\n",
    "        }, f)"
   ]
  },
  {
   "cell_type": "markdown",
   "metadata": {},
   "source": [
    "<h3>Linear regression</h2"
   ]
  },
  {
   "cell_type": "code",
   "execution_count": 41,
   "metadata": {},
   "outputs": [
    {
     "name": "stdout",
     "output_type": "stream",
     "text": [
      "Model fpath: models/windside/lr_aec4c435-0411-33e9-ab2d-ea1f6e2e72de_windspeed\n"
     ]
    }
   ],
   "source": [
    "np.random.seed(seed)\n",
    "\n",
    "kwargs = {}\n",
    "alg_name = 'LR'\n",
    "\n",
    "train_sk(alg_name, kwargs, order, X_tr_std, Y_tr)"
   ]
  },
  {
   "cell_type": "code",
   "execution_count": 42,
   "metadata": {},
   "outputs": [
    {
     "name": "stdout",
     "output_type": "stream",
     "text": [
      "Model fpath: models/windside/lr_aec4c435-0411-33e9-ab2d-ea1f6e2e72de_windspeed\n"
     ]
    }
   ],
   "source": [
    "save_data_info(alg_name, kwargs, order)"
   ]
  },
  {
   "cell_type": "code",
   "execution_count": 43,
   "metadata": {},
   "outputs": [
    {
     "name": "stdout",
     "output_type": "stream",
     "text": [
      "Model fpath: models/windside/lr_aec4c435-0411-33e9-ab2d-ea1f6e2e72de_windspeed\n",
      "\n",
      "Error 0: 0.31285613775253296, error 1: 1.2245783805847168\n"
     ]
    }
   ],
   "source": [
    "eval_alg(alg_name, kwargs, order, Y_inf, X_inf_std, idx_inf_1)"
   ]
  },
  {
   "cell_type": "markdown",
   "metadata": {},
   "source": [
    "<h3>Gradient boosting trees</h3>"
   ]
  },
  {
   "cell_type": "code",
   "execution_count": 44,
   "metadata": {},
   "outputs": [
    {
     "name": "stdout",
     "output_type": "stream",
     "text": [
      "Model fpath: models/windside/lgbmr_f9453746-9e18-34b0-b86e-17ab46604b32_windspeed\n"
     ]
    }
   ],
   "source": [
    "np.random.seed(seed)\n",
    "\n",
    "kwargs = {'random_state': seed, 'n_estimators': 28, 'num_leaves': 190}\n",
    "alg_name = 'LGBMR'\n",
    "\n",
    "train_sk(alg_name, kwargs, order, X_tr_std, Y_tr)"
   ]
  },
  {
   "cell_type": "code",
   "execution_count": 45,
   "metadata": {},
   "outputs": [
    {
     "name": "stdout",
     "output_type": "stream",
     "text": [
      "Model fpath: models/windside/lgbmr_f9453746-9e18-34b0-b86e-17ab46604b32_windspeed\n"
     ]
    }
   ],
   "source": [
    "save_data_info(alg_name, kwargs, order)"
   ]
  },
  {
   "cell_type": "code",
   "execution_count": 46,
   "metadata": {},
   "outputs": [
    {
     "name": "stdout",
     "output_type": "stream",
     "text": [
      "Model fpath: models/windside/lgbmr_f9453746-9e18-34b0-b86e-17ab46604b32_windspeed\n",
      "\n",
      "Error 0: 0.31285613775253296, error 1: 1.654787244392738\n"
     ]
    }
   ],
   "source": [
    "eval_alg(alg_name, kwargs, order, Y_inf, X_inf_std, idx_inf_1)"
   ]
  },
  {
   "cell_type": "markdown",
   "metadata": {},
   "source": [
    "<h3>Neural networks</h3>"
   ]
  },
  {
   "cell_type": "code",
   "execution_count": 47,
   "metadata": {},
   "outputs": [],
   "source": [
    "#os.environ[\"CUDA_VISIBLE_DEVICES\"] = '-1'\n",
    "\n",
    "output_dim = 1\n",
    "loss = 'mean_squared_error'\n",
    "epochs = 100\n",
    "patience = 10\n",
    "lr = 5e-4\n",
    "batch_size = 4096"
   ]
  },
  {
   "cell_type": "markdown",
   "metadata": {},
   "source": [
    "<h4>Dense</h4>"
   ]
  },
  {
   "cell_type": "code",
   "execution_count": 48,
   "metadata": {},
   "outputs": [],
   "source": [
    "alg_name = 'dnn'\n",
    "layers = [\"dense_256\"]"
   ]
  },
  {
   "cell_type": "code",
   "execution_count": 49,
   "metadata": {},
   "outputs": [
    {
     "name": "stdout",
     "output_type": "stream",
     "text": [
      "Model: \"model\"\n",
      "_________________________________________________________________\n",
      " Layer (type)                Output Shape              Param #   \n",
      "=================================================================\n",
      " input_1 (InputLayer)        [(None, 60)]              0         \n",
      "                                                                 \n",
      " dense (Dense)               (None, 256)               15616     \n",
      "                                                                 \n",
      " dropout (Dropout)           (None, 256)               0         \n",
      "                                                                 \n",
      " dense_1 (Dense)             (None, 1)                 257       \n",
      "                                                                 \n",
      "=================================================================\n",
      "Total params: 15,873\n",
      "Trainable params: 15,873\n",
      "Non-trainable params: 0\n",
      "_________________________________________________________________\n",
      "Epoch 1/100\n",
      "2393/2393 [==============================] - 9s 2ms/step - loss: 0.0664 - mean_squared_error: 0.7734 - mean_absolute_error: 0.5699 - val_loss: 0.0983 - val_mean_squared_error: 0.5488 - val_mean_absolute_error: 0.6770\n",
      "Epoch 2/100\n",
      "2393/2393 [==============================] - 5s 2ms/step - loss: 0.0127 - mean_squared_error: 0.1483 - mean_absolute_error: 0.3056 - val_loss: 0.0592 - val_mean_squared_error: 0.3303 - val_mean_absolute_error: 0.5293\n",
      "Epoch 3/100\n",
      "2393/2393 [==============================] - 5s 2ms/step - loss: 0.0093 - mean_squared_error: 0.1078 - mean_absolute_error: 0.2637 - val_loss: 0.0600 - val_mean_squared_error: 0.3350 - val_mean_absolute_error: 0.5505\n",
      "Epoch 4/100\n",
      "2393/2393 [==============================] - 5s 2ms/step - loss: 0.0086 - mean_squared_error: 0.1005 - mean_absolute_error: 0.2547 - val_loss: 0.0566 - val_mean_squared_error: 0.3159 - val_mean_absolute_error: 0.5362\n",
      "Epoch 5/100\n",
      "2393/2393 [==============================] - 5s 2ms/step - loss: 0.0085 - mean_squared_error: 0.0995 - mean_absolute_error: 0.2532 - val_loss: 0.0647 - val_mean_squared_error: 0.3612 - val_mean_absolute_error: 0.5868\n",
      "Epoch 6/100\n",
      "2393/2393 [==============================] - 5s 2ms/step - loss: 0.0085 - mean_squared_error: 0.0986 - mean_absolute_error: 0.2515 - val_loss: 0.0558 - val_mean_squared_error: 0.3115 - val_mean_absolute_error: 0.5311\n",
      "Epoch 7/100\n",
      "2393/2393 [==============================] - 5s 2ms/step - loss: 0.0085 - mean_squared_error: 0.0989 - mean_absolute_error: 0.2523 - val_loss: 0.0567 - val_mean_squared_error: 0.3165 - val_mean_absolute_error: 0.5420\n",
      "Epoch 8/100\n",
      "2393/2393 [==============================] - 5s 2ms/step - loss: 0.0085 - mean_squared_error: 0.0991 - mean_absolute_error: 0.2525 - val_loss: 0.0571 - val_mean_squared_error: 0.3185 - val_mean_absolute_error: 0.5391\n",
      "Epoch 9/100\n",
      "2393/2393 [==============================] - 5s 2ms/step - loss: 0.0085 - mean_squared_error: 0.0990 - mean_absolute_error: 0.2526 - val_loss: 0.0605 - val_mean_squared_error: 0.3377 - val_mean_absolute_error: 0.5648\n",
      "Epoch 10/100\n",
      "2393/2393 [==============================] - 5s 2ms/step - loss: 0.0085 - mean_squared_error: 0.0988 - mean_absolute_error: 0.2519 - val_loss: 0.0540 - val_mean_squared_error: 0.3012 - val_mean_absolute_error: 0.5237\n",
      "Epoch 11/100\n",
      "2393/2393 [==============================] - 5s 2ms/step - loss: 0.0084 - mean_squared_error: 0.0984 - mean_absolute_error: 0.2515 - val_loss: 0.0600 - val_mean_squared_error: 0.3347 - val_mean_absolute_error: 0.5621\n",
      "Epoch 12/100\n",
      "2393/2393 [==============================] - 5s 2ms/step - loss: 0.0084 - mean_squared_error: 0.0982 - mean_absolute_error: 0.2510 - val_loss: 0.0563 - val_mean_squared_error: 0.3142 - val_mean_absolute_error: 0.5370\n",
      "Epoch 13/100\n",
      "2393/2393 [==============================] - 5s 2ms/step - loss: 0.0084 - mean_squared_error: 0.0978 - mean_absolute_error: 0.2502 - val_loss: 0.0529 - val_mean_squared_error: 0.2953 - val_mean_absolute_error: 0.5080\n",
      "Epoch 14/100\n",
      "2393/2393 [==============================] - 5s 2ms/step - loss: 0.0084 - mean_squared_error: 0.0984 - mean_absolute_error: 0.2513 - val_loss: 0.0522 - val_mean_squared_error: 0.2915 - val_mean_absolute_error: 0.5054\n",
      "Epoch 15/100\n",
      "2393/2393 [==============================] - 5s 2ms/step - loss: 0.0085 - mean_squared_error: 0.0985 - mean_absolute_error: 0.2514 - val_loss: 0.0592 - val_mean_squared_error: 0.3304 - val_mean_absolute_error: 0.5569\n",
      "Epoch 16/100\n",
      "2393/2393 [==============================] - 5s 2ms/step - loss: 0.0085 - mean_squared_error: 0.0989 - mean_absolute_error: 0.2520 - val_loss: 0.0623 - val_mean_squared_error: 0.3477 - val_mean_absolute_error: 0.5775\n",
      "Epoch 17/100\n",
      "2393/2393 [==============================] - 5s 2ms/step - loss: 0.0084 - mean_squared_error: 0.0984 - mean_absolute_error: 0.2513 - val_loss: 0.0538 - val_mean_squared_error: 0.3000 - val_mean_absolute_error: 0.5196\n",
      "Epoch 18/100\n",
      "2393/2393 [==============================] - 5s 2ms/step - loss: 0.0084 - mean_squared_error: 0.0980 - mean_absolute_error: 0.2505 - val_loss: 0.0558 - val_mean_squared_error: 0.3114 - val_mean_absolute_error: 0.5310\n",
      "Epoch 19/100\n",
      "2393/2393 [==============================] - 5s 2ms/step - loss: 0.0085 - mean_squared_error: 0.0986 - mean_absolute_error: 0.2516 - val_loss: 0.0543 - val_mean_squared_error: 0.3030 - val_mean_absolute_error: 0.5215\n",
      "Epoch 20/100\n",
      "2393/2393 [==============================] - 5s 2ms/step - loss: 0.0086 - mean_squared_error: 0.0999 - mean_absolute_error: 0.2538 - val_loss: 0.0564 - val_mean_squared_error: 0.3148 - val_mean_absolute_error: 0.5432\n",
      "Epoch 21/100\n",
      "2393/2393 [==============================] - 5s 2ms/step - loss: 0.0085 - mean_squared_error: 0.0995 - mean_absolute_error: 0.2531 - val_loss: 0.0550 - val_mean_squared_error: 0.3069 - val_mean_absolute_error: 0.5310\n",
      "Epoch 22/100\n",
      "2393/2393 [==============================] - 5s 2ms/step - loss: 0.0085 - mean_squared_error: 0.0991 - mean_absolute_error: 0.2527 - val_loss: 0.0586 - val_mean_squared_error: 0.3270 - val_mean_absolute_error: 0.5560\n",
      "Epoch 23/100\n",
      "2393/2393 [==============================] - 5s 2ms/step - loss: 0.0086 - mean_squared_error: 0.0997 - mean_absolute_error: 0.2537 - val_loss: 0.0562 - val_mean_squared_error: 0.3135 - val_mean_absolute_error: 0.5389\n",
      "Epoch 24/100\n",
      "2393/2393 [==============================] - 5s 2ms/step - loss: 0.0085 - mean_squared_error: 0.0985 - mean_absolute_error: 0.2515 - val_loss: 0.0548 - val_mean_squared_error: 0.3057 - val_mean_absolute_error: 0.5286\n",
      "Model fpath: models/windside/dnn_94db7790-69e1-310d-9b9e-13d97d933afc_windspeed\n",
      "INFO:tensorflow:Assets written to: models/windside/dnn_94db7790-69e1-310d-9b9e-13d97d933afc_windspeed/assets\n"
     ]
    }
   ],
   "source": [
    "p = multiprocessing.Process(\n",
    "    target=train_nn,\n",
    "    args=(alg_name, layers, order, X_tr_std, Y_tr, W_tr, output_dim, loss, lr, val_split, epochs, batch_size, patience)\n",
    ")\n",
    "\n",
    "p.start()\n",
    "p.join()"
   ]
  },
  {
   "cell_type": "code",
   "execution_count": 50,
   "metadata": {
    "scrolled": true
   },
   "outputs": [
    {
     "name": "stdout",
     "output_type": "stream",
     "text": [
      "Model fpath: models/windside/dnn_94db7790-69e1-310d-9b9e-13d97d933afc_windspeed\n"
     ]
    }
   ],
   "source": [
    "save_data_info(alg_name, layers, order)"
   ]
  },
  {
   "cell_type": "code",
   "execution_count": 51,
   "metadata": {
    "scrolled": false
   },
   "outputs": [
    {
     "name": "stdout",
     "output_type": "stream",
     "text": [
      "Model fpath: models/windside/dnn_94db7790-69e1-310d-9b9e-13d97d933afc_windspeed\n",
      "416/416 [==============================] - 1s 1ms/step\n",
      "\n",
      "Error 0: 0.31285613775253296, error 1: 1.7096868753433228\n"
     ]
    }
   ],
   "source": [
    "p = multiprocessing.Process(\n",
    "    target=eval_alg,\n",
    "    args=(alg_name, layers, order, Y_inf, X_inf_std, idx_inf_1, batch_size)\n",
    ")\n",
    "\n",
    "p.start()\n",
    "p.join()"
   ]
  },
  {
   "cell_type": "markdown",
   "metadata": {},
   "source": [
    "<h4>Convolutional</h4>"
   ]
  },
  {
   "cell_type": "code",
   "execution_count": 52,
   "metadata": {},
   "outputs": [],
   "source": [
    "alg_name = 'cnn'\n",
    "layers = [\"conv_256\"]"
   ]
  },
  {
   "cell_type": "code",
   "execution_count": 53,
   "metadata": {},
   "outputs": [
    {
     "name": "stdout",
     "output_type": "stream",
     "text": [
      "Model: \"model\"\n",
      "_________________________________________________________________\n",
      " Layer (type)                Output Shape              Param #   \n",
      "=================================================================\n",
      " input_1 (InputLayer)        [(None, 60, 1)]           0         \n",
      "                                                                 \n",
      " conv1d (Conv1D)             (None, 18, 256)           2048      \n",
      "                                                                 \n",
      " dropout (Dropout)           (None, 18, 256)           0         \n",
      "                                                                 \n",
      " flatten (Flatten)           (None, 4608)              0         \n",
      "                                                                 \n",
      " dense (Dense)               (None, 1)                 4609      \n",
      "                                                                 \n",
      "=================================================================\n",
      "Total params: 6,657\n",
      "Trainable params: 6,657\n",
      "Non-trainable params: 0\n",
      "_________________________________________________________________\n",
      "Epoch 1/100\n",
      "2393/2393 [==============================] - 34s 12ms/step - loss: 0.0139 - mean_squared_error: 0.1618 - mean_absolute_error: 0.3119 - val_loss: 0.0570 - val_mean_squared_error: 0.3179 - val_mean_absolute_error: 0.5294\n",
      "Epoch 2/100\n",
      "2393/2393 [==============================] - 29s 12ms/step - loss: 0.0093 - mean_squared_error: 0.1084 - mean_absolute_error: 0.2648 - val_loss: 0.0575 - val_mean_squared_error: 0.3211 - val_mean_absolute_error: 0.5303\n",
      "Epoch 3/100\n",
      "2393/2393 [==============================] - 28s 12ms/step - loss: 0.0088 - mean_squared_error: 0.1030 - mean_absolute_error: 0.2573 - val_loss: 0.0529 - val_mean_squared_error: 0.2955 - val_mean_absolute_error: 0.5045\n",
      "Epoch 4/100\n",
      "2393/2393 [==============================] - 29s 12ms/step - loss: 0.0089 - mean_squared_error: 0.1034 - mean_absolute_error: 0.2577 - val_loss: 0.0614 - val_mean_squared_error: 0.3427 - val_mean_absolute_error: 0.5543\n",
      "Epoch 5/100\n",
      "2393/2393 [==============================] - 29s 12ms/step - loss: 0.0089 - mean_squared_error: 0.1032 - mean_absolute_error: 0.2575 - val_loss: 0.0613 - val_mean_squared_error: 0.3422 - val_mean_absolute_error: 0.5576\n",
      "Epoch 6/100\n",
      "2393/2393 [==============================] - 30s 12ms/step - loss: 0.0087 - mean_squared_error: 0.1014 - mean_absolute_error: 0.2550 - val_loss: 0.0535 - val_mean_squared_error: 0.2988 - val_mean_absolute_error: 0.5073\n",
      "Epoch 7/100\n",
      "2393/2393 [==============================] - 29s 12ms/step - loss: 0.0086 - mean_squared_error: 0.1002 - mean_absolute_error: 0.2529 - val_loss: 0.0597 - val_mean_squared_error: 0.3330 - val_mean_absolute_error: 0.5463\n",
      "Epoch 8/100\n",
      "2393/2393 [==============================] - 28s 12ms/step - loss: 0.0085 - mean_squared_error: 0.0990 - mean_absolute_error: 0.2508 - val_loss: 0.0574 - val_mean_squared_error: 0.3204 - val_mean_absolute_error: 0.5317\n",
      "Epoch 9/100\n",
      "2393/2393 [==============================] - 29s 12ms/step - loss: 0.0086 - mean_squared_error: 0.0997 - mean_absolute_error: 0.2522 - val_loss: 0.0535 - val_mean_squared_error: 0.2985 - val_mean_absolute_error: 0.5123\n",
      "Epoch 10/100\n",
      "2393/2393 [==============================] - 29s 12ms/step - loss: 0.0085 - mean_squared_error: 0.0986 - mean_absolute_error: 0.2506 - val_loss: 0.0559 - val_mean_squared_error: 0.3118 - val_mean_absolute_error: 0.5203\n",
      "Epoch 11/100\n",
      "2393/2393 [==============================] - 30s 12ms/step - loss: 0.0084 - mean_squared_error: 0.0983 - mean_absolute_error: 0.2501 - val_loss: 0.0517 - val_mean_squared_error: 0.2888 - val_mean_absolute_error: 0.5000\n",
      "Epoch 12/100\n",
      "2393/2393 [==============================] - 30s 12ms/step - loss: 0.0084 - mean_squared_error: 0.0979 - mean_absolute_error: 0.2497 - val_loss: 0.0493 - val_mean_squared_error: 0.2752 - val_mean_absolute_error: 0.4902\n",
      "Epoch 13/100\n",
      "2393/2393 [==============================] - 29s 12ms/step - loss: 0.0084 - mean_squared_error: 0.0978 - mean_absolute_error: 0.2497 - val_loss: 0.0545 - val_mean_squared_error: 0.3043 - val_mean_absolute_error: 0.5140\n",
      "Epoch 14/100\n",
      "2393/2393 [==============================] - 30s 13ms/step - loss: 0.0084 - mean_squared_error: 0.0974 - mean_absolute_error: 0.2489 - val_loss: 0.0530 - val_mean_squared_error: 0.2956 - val_mean_absolute_error: 0.5025\n",
      "Epoch 15/100\n",
      "2393/2393 [==============================] - 30s 13ms/step - loss: 0.0083 - mean_squared_error: 0.0968 - mean_absolute_error: 0.2477 - val_loss: 0.0586 - val_mean_squared_error: 0.3271 - val_mean_absolute_error: 0.5468\n",
      "Epoch 16/100\n",
      "2393/2393 [==============================] - 29s 12ms/step - loss: 0.0083 - mean_squared_error: 0.0968 - mean_absolute_error: 0.2477 - val_loss: 0.0551 - val_mean_squared_error: 0.3076 - val_mean_absolute_error: 0.5169\n",
      "Epoch 17/100\n",
      "2393/2393 [==============================] - 28s 12ms/step - loss: 0.0083 - mean_squared_error: 0.0966 - mean_absolute_error: 0.2472 - val_loss: 0.0531 - val_mean_squared_error: 0.2964 - val_mean_absolute_error: 0.5033\n",
      "Epoch 18/100\n",
      "2393/2393 [==============================] - 30s 13ms/step - loss: 0.0083 - mean_squared_error: 0.0968 - mean_absolute_error: 0.2479 - val_loss: 0.0565 - val_mean_squared_error: 0.3152 - val_mean_absolute_error: 0.5257\n",
      "Epoch 19/100\n",
      "2393/2393 [==============================] - 29s 12ms/step - loss: 0.0083 - mean_squared_error: 0.0966 - mean_absolute_error: 0.2474 - val_loss: 0.0498 - val_mean_squared_error: 0.2782 - val_mean_absolute_error: 0.4864\n",
      "Epoch 20/100\n",
      "2393/2393 [==============================] - 29s 12ms/step - loss: 0.0083 - mean_squared_error: 0.0968 - mean_absolute_error: 0.2475 - val_loss: 0.0537 - val_mean_squared_error: 0.2995 - val_mean_absolute_error: 0.5119\n",
      "Epoch 21/100\n",
      "2393/2393 [==============================] - 29s 12ms/step - loss: 0.0083 - mean_squared_error: 0.0968 - mean_absolute_error: 0.2478 - val_loss: 0.0545 - val_mean_squared_error: 0.3042 - val_mean_absolute_error: 0.5134\n",
      "Epoch 22/100\n",
      "2393/2393 [==============================] - 28s 12ms/step - loss: 0.0083 - mean_squared_error: 0.0968 - mean_absolute_error: 0.2477 - val_loss: 0.0571 - val_mean_squared_error: 0.3186 - val_mean_absolute_error: 0.5387\n",
      "Model fpath: models/windside/cnn_fbedd7a3-94bb-339b-84cd-9fb8bde9eee6_windspeed\n"
     ]
    },
    {
     "name": "stderr",
     "output_type": "stream",
     "text": [
      "WARNING:absl:Found untraced functions such as _jit_compiled_convolution_op while saving (showing 1 of 1). These functions will not be directly callable after loading.\n"
     ]
    },
    {
     "name": "stdout",
     "output_type": "stream",
     "text": [
      "INFO:tensorflow:Assets written to: models/windside/cnn_fbedd7a3-94bb-339b-84cd-9fb8bde9eee6_windspeed/assets\n"
     ]
    },
    {
     "name": "stderr",
     "output_type": "stream",
     "text": [
      "INFO:tensorflow:Assets written to: models/windside/cnn_fbedd7a3-94bb-339b-84cd-9fb8bde9eee6_windspeed/assets\n"
     ]
    }
   ],
   "source": [
    "p = multiprocessing.Process(\n",
    "    target=train_nn,\n",
    "    args=(alg_name, layers, order, np.expand_dims(X_tr_std, -1), Y_tr, W_tr, output_dim, loss, lr, val_split, epochs, batch_size, patience)\n",
    ")\n",
    "\n",
    "p.start()\n",
    "p.join()"
   ]
  },
  {
   "cell_type": "code",
   "execution_count": 54,
   "metadata": {},
   "outputs": [
    {
     "name": "stdout",
     "output_type": "stream",
     "text": [
      "Model fpath: models/windside/cnn_fbedd7a3-94bb-339b-84cd-9fb8bde9eee6_windspeed\n"
     ]
    }
   ],
   "source": [
    "save_data_info(alg_name, layers, order)"
   ]
  },
  {
   "cell_type": "code",
   "execution_count": 55,
   "metadata": {
    "scrolled": false
   },
   "outputs": [
    {
     "name": "stdout",
     "output_type": "stream",
     "text": [
      "Model fpath: models/windside/cnn_fbedd7a3-94bb-339b-84cd-9fb8bde9eee6_windspeed\n",
      "416/416 [==============================] - 3s 3ms/step\n",
      "\n",
      "Error 0: 0.31285613775253296, error 1: 1.7651110887527466\n"
     ]
    }
   ],
   "source": [
    "p = multiprocessing.Process(\n",
    "    target=eval_alg,\n",
    "    args=(alg_name, layers, order, Y_inf, np.expand_dims(X_inf_std, -1), idx_inf_1, batch_size)\n",
    ")\n",
    "\n",
    "p.start()\n",
    "p.join()"
   ]
  },
  {
   "cell_type": "markdown",
   "metadata": {},
   "source": [
    "<h4>LSTM</h4>"
   ]
  },
  {
   "cell_type": "code",
   "execution_count": 56,
   "metadata": {},
   "outputs": [],
   "source": [
    "alg_name = 'lstm'\n",
    "layers = [\"lstm_64\"]"
   ]
  },
  {
   "cell_type": "code",
   "execution_count": 57,
   "metadata": {},
   "outputs": [
    {
     "name": "stdout",
     "output_type": "stream",
     "text": [
      "WARNING:tensorflow:Layer lstm will not use cuDNN kernels since it doesn't meet the criteria. It will use a generic GPU kernel as fallback when running on GPU.\n",
      "Model: \"model\"\n",
      "_________________________________________________________________\n",
      " Layer (type)                Output Shape              Param #   \n",
      "=================================================================\n",
      " input_1 (InputLayer)        [(None, 60, 1)]           0         \n",
      "                                                                 \n",
      " lstm (LSTM)                 (None, 64)                16896     \n",
      "                                                                 \n",
      " dropout (Dropout)           (None, 64)                0         \n",
      "                                                                 \n",
      " dense (Dense)               (None, 1)                 65        \n",
      "                                                                 \n",
      "=================================================================\n",
      "Total params: 16,961\n",
      "Trainable params: 16,961\n",
      "Non-trainable params: 0\n",
      "_________________________________________________________________\n",
      "Epoch 1/100\n",
      "2393/2393 [==============================] - 121s 49ms/step - loss: 0.1684 - mean_squared_error: 1.9623 - mean_absolute_error: 0.5817 - val_loss: 0.0721 - val_mean_squared_error: 0.4024 - val_mean_absolute_error: 0.6194\n",
      "Epoch 2/100\n",
      "2393/2393 [==============================] - 116s 48ms/step - loss: 0.0129 - mean_squared_error: 0.1501 - mean_absolute_error: 0.3123 - val_loss: 0.0657 - val_mean_squared_error: 0.3669 - val_mean_absolute_error: 0.5803\n",
      "Epoch 3/100\n",
      "2393/2393 [==============================] - 116s 48ms/step - loss: 0.0102 - mean_squared_error: 0.1189 - mean_absolute_error: 0.2770 - val_loss: 0.0653 - val_mean_squared_error: 0.3643 - val_mean_absolute_error: 0.5821\n",
      "Epoch 4/100\n",
      "2393/2393 [==============================] - 117s 49ms/step - loss: 0.0088 - mean_squared_error: 0.1030 - mean_absolute_error: 0.2569 - val_loss: 0.0604 - val_mean_squared_error: 0.3370 - val_mean_absolute_error: 0.5507\n",
      "Epoch 5/100\n",
      "2393/2393 [==============================] - 116s 49ms/step - loss: 0.0084 - mean_squared_error: 0.0976 - mean_absolute_error: 0.2488 - val_loss: 0.0591 - val_mean_squared_error: 0.3301 - val_mean_absolute_error: 0.5504\n",
      "Epoch 6/100\n",
      "2393/2393 [==============================] - 117s 49ms/step - loss: 0.0082 - mean_squared_error: 0.0954 - mean_absolute_error: 0.2448 - val_loss: 0.0568 - val_mean_squared_error: 0.3170 - val_mean_absolute_error: 0.5247\n",
      "Epoch 7/100\n",
      "2393/2393 [==============================] - 117s 49ms/step - loss: 0.0082 - mean_squared_error: 0.0951 - mean_absolute_error: 0.2441 - val_loss: 0.0600 - val_mean_squared_error: 0.3351 - val_mean_absolute_error: 0.5450\n",
      "Epoch 8/100\n",
      "2393/2393 [==============================] - 117s 49ms/step - loss: 0.0081 - mean_squared_error: 0.0938 - mean_absolute_error: 0.2416 - val_loss: 0.0618 - val_mean_squared_error: 0.3451 - val_mean_absolute_error: 0.5535\n",
      "Epoch 9/100\n",
      "2393/2393 [==============================] - 117s 49ms/step - loss: 0.0080 - mean_squared_error: 0.0932 - mean_absolute_error: 0.2402 - val_loss: 0.0604 - val_mean_squared_error: 0.3372 - val_mean_absolute_error: 0.5559\n",
      "Epoch 10/100\n",
      "2393/2393 [==============================] - 117s 49ms/step - loss: 0.0080 - mean_squared_error: 0.0927 - mean_absolute_error: 0.2391 - val_loss: 0.0528 - val_mean_squared_error: 0.2947 - val_mean_absolute_error: 0.4998\n",
      "Epoch 11/100\n",
      "2393/2393 [==============================] - 117s 49ms/step - loss: 0.0788 - mean_squared_error: 0.9180 - mean_absolute_error: 0.2485 - val_loss: 0.0606 - val_mean_squared_error: 0.3380 - val_mean_absolute_error: 0.5483\n",
      "Epoch 12/100\n",
      "2393/2393 [==============================] - 117s 49ms/step - loss: 0.0080 - mean_squared_error: 0.0929 - mean_absolute_error: 0.2399 - val_loss: 0.0593 - val_mean_squared_error: 0.3312 - val_mean_absolute_error: 0.5525\n",
      "Epoch 13/100\n",
      "2393/2393 [==============================] - 117s 49ms/step - loss: 0.0079 - mean_squared_error: 0.0922 - mean_absolute_error: 0.2380 - val_loss: 0.0575 - val_mean_squared_error: 0.3208 - val_mean_absolute_error: 0.5312\n",
      "Epoch 14/100\n",
      "2393/2393 [==============================] - 117s 49ms/step - loss: 0.0079 - mean_squared_error: 0.0918 - mean_absolute_error: 0.2372 - val_loss: 0.0608 - val_mean_squared_error: 0.3393 - val_mean_absolute_error: 0.5404\n",
      "Epoch 15/100\n",
      "2393/2393 [==============================] - 117s 49ms/step - loss: 0.0079 - mean_squared_error: 0.0915 - mean_absolute_error: 0.2367 - val_loss: 0.0649 - val_mean_squared_error: 0.3625 - val_mean_absolute_error: 0.5640\n",
      "Epoch 16/100\n",
      "2393/2393 [==============================] - 118s 49ms/step - loss: 0.0078 - mean_squared_error: 0.0912 - mean_absolute_error: 0.2360 - val_loss: 0.0566 - val_mean_squared_error: 0.3158 - val_mean_absolute_error: 0.5230\n",
      "Epoch 17/100\n",
      "2393/2393 [==============================] - 118s 49ms/step - loss: 0.0078 - mean_squared_error: 0.0910 - mean_absolute_error: 0.2356 - val_loss: 0.0546 - val_mean_squared_error: 0.3049 - val_mean_absolute_error: 0.5169\n",
      "Epoch 18/100\n",
      "2393/2393 [==============================] - 117s 49ms/step - loss: 0.0078 - mean_squared_error: 0.0910 - mean_absolute_error: 0.2355 - val_loss: 0.0563 - val_mean_squared_error: 0.3142 - val_mean_absolute_error: 0.5224\n",
      "Epoch 19/100\n",
      "2393/2393 [==============================] - 117s 49ms/step - loss: 0.0078 - mean_squared_error: 0.0909 - mean_absolute_error: 0.2353 - val_loss: 0.0575 - val_mean_squared_error: 0.3209 - val_mean_absolute_error: 0.5181\n",
      "Epoch 20/100\n",
      "2393/2393 [==============================] - 117s 49ms/step - loss: 0.0078 - mean_squared_error: 0.0908 - mean_absolute_error: 0.2351 - val_loss: 0.0569 - val_mean_squared_error: 0.3174 - val_mean_absolute_error: 0.5281\n",
      "Model fpath: models/windside/lstm_92e9abcb-b566-3166-a138-3316c30de6e5_windspeed\n",
      "INFO:tensorflow:Assets written to: models/windside/lstm_92e9abcb-b566-3166-a138-3316c30de6e5_windspeed/assets\n"
     ]
    }
   ],
   "source": [
    "p = multiprocessing.Process(\n",
    "    target=train_nn,\n",
    "    args=(alg_name, layers, order, np.expand_dims(X_tr_std, -1), Y_tr, W_tr, output_dim, loss, lr, val_split, epochs, batch_size, patience)\n",
    ")\n",
    "\n",
    "p.start()\n",
    "p.join()"
   ]
  },
  {
   "cell_type": "code",
   "execution_count": 58,
   "metadata": {},
   "outputs": [
    {
     "name": "stdout",
     "output_type": "stream",
     "text": [
      "Model fpath: models/windside/lstm_92e9abcb-b566-3166-a138-3316c30de6e5_windspeed\n"
     ]
    }
   ],
   "source": [
    "save_data_info(alg_name, layers, order)"
   ]
  },
  {
   "cell_type": "code",
   "execution_count": 59,
   "metadata": {
    "scrolled": false
   },
   "outputs": [
    {
     "name": "stdout",
     "output_type": "stream",
     "text": [
      "Model fpath: models/windside/lstm_92e9abcb-b566-3166-a138-3316c30de6e5_windspeed\n",
      "WARNING:tensorflow:Layer lstm will not use cuDNN kernels since it doesn't meet the criteria. It will use a generic GPU kernel as fallback when running on GPU.\n",
      "416/416 [==============================] - 5s 12ms/step\n",
      "\n",
      "Error 0: 0.31285613775253296, error 1: 1.7369617223739624\n"
     ]
    }
   ],
   "source": [
    "p = multiprocessing.Process(\n",
    "    target=eval_alg,\n",
    "    args=(alg_name, layers, order, Y_inf, np.expand_dims(X_inf_std, -1), idx_inf_1, batch_size)\n",
    ")\n",
    "\n",
    "p.start()\n",
    "p.join()"
   ]
  }
 ],
 "metadata": {
  "kernelspec": {
   "display_name": "Python 3",
   "language": "python",
   "name": "python3"
  },
  "language_info": {
   "codemirror_mode": {
    "name": "ipython",
    "version": 3
   },
   "file_extension": ".py",
   "mimetype": "text/x-python",
   "name": "python",
   "nbconvert_exporter": "python",
   "pygments_lexer": "ipython3",
   "version": "3.8.5"
  }
 },
 "nbformat": 4,
 "nbformat_minor": 4
}
